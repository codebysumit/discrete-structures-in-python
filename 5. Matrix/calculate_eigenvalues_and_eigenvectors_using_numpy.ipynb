{
 "cells": [
  {
   "cell_type": "code",
   "execution_count": 1,
   "id": "05ea25a2-84fe-4875-80d7-e9f227ff58c7",
   "metadata": {},
   "outputs": [],
   "source": [
    "import numpy as np\n",
    "from numpy.linalg import eig"
   ]
  },
  {
   "cell_type": "markdown",
   "id": "86134312-1e7b-4dc7-8466-9f5d387b60f9",
   "metadata": {},
   "source": [
    "1. Calculate the eigenvalues and eigenvectors for matrix $A = \\begin{bmatrix}\n",
    "5 & 4\\\\\n",
    "1 & 2\\\\\n",
    "\\end{bmatrix}$. "
   ]
  },
  {
   "cell_type": "code",
   "execution_count": 2,
   "id": "7225cda7-6a61-4b1a-bd12-504ce26b9d7e",
   "metadata": {},
   "outputs": [],
   "source": [
    "a = np.array([[5, 4], \n",
    "              [1, 2]])"
   ]
  },
  {
   "cell_type": "code",
   "execution_count": 3,
   "id": "6edabc11-8218-45d6-b67a-c1f026b44474",
   "metadata": {},
   "outputs": [
    {
     "name": "stdout",
     "output_type": "stream",
     "text": [
      "eigen-value: [6. 1.]\n",
      "eigen-vector [[ 0.9701425  -0.70710678]\n",
      " [ 0.24253563  0.70710678]]\n"
     ]
    }
   ],
   "source": [
    "w,v=eig(a)\n",
    "print('eigen-value:', w)\n",
    "print('eigen-vector', v)"
   ]
  },
  {
   "cell_type": "markdown",
   "id": "1dcee475-d867-4232-b21e-ac929878bfc8",
   "metadata": {},
   "source": [
    "2. Compute the eigenvalues and eigenvectors for matrix $A = \\begin{bmatrix}\n",
    "3 & 1 & 1\\\\\n",
    "2 & 4 & 2\\\\\n",
    "1 & 1 & 3\\\\\n",
    "\\end{bmatrix}$."
   ]
  },
  {
   "cell_type": "code",
   "execution_count": 4,
   "id": "f6d5e85e-7a8e-4e17-835f-a9333cafa654",
   "metadata": {},
   "outputs": [],
   "source": [
    "b = np.array([[3, 1, 1],\n",
    "              [2, 4, 2],\n",
    "              [1, 1, 3]])"
   ]
  },
  {
   "cell_type": "code",
   "execution_count": 5,
   "id": "ab9624f9-2a3d-48db-96f5-7f84ac11f8ab",
   "metadata": {},
   "outputs": [
    {
     "name": "stdout",
     "output_type": "stream",
     "text": [
      "eigen-value: [2. 6. 2.]\n",
      "eigen-vector [[-0.80178373  0.40824829 -0.20234712]\n",
      " [ 0.53452248  0.81649658 -0.58387515]\n",
      " [ 0.26726124  0.40824829  0.78622227]]\n"
     ]
    }
   ],
   "source": [
    "w,v=eig(b)\n",
    "print('eigen-value:', w)\n",
    "print('eigen-vector', v)"
   ]
  }
 ],
 "metadata": {
  "kernelspec": {
   "display_name": "Python 3 (ipykernel)",
   "language": "python",
   "name": "python3"
  },
  "language_info": {
   "codemirror_mode": {
    "name": "ipython",
    "version": 3
   },
   "file_extension": ".py",
   "mimetype": "text/x-python",
   "name": "python",
   "nbconvert_exporter": "python",
   "pygments_lexer": "ipython3",
   "version": "3.13.5"
  }
 },
 "nbformat": 4,
 "nbformat_minor": 5
}
